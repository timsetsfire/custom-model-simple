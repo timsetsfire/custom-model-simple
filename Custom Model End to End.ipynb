{
 "cells": [
  {
   "cell_type": "code",
   "execution_count": null,
   "metadata": {},
   "outputs": [],
   "source": [
    "!pip install datarobot requests-futures==1.0.1 -qqq"
   ]
  },
  {
   "cell_type": "markdown",
   "metadata": {},
   "source": [
    "## Custom Model Assemlbly to Deployment"
   ]
  },
  {
   "cell_type": "markdown",
   "metadata": {},
   "source": [
    "create an instance of the datarobot Client\n",
    "\n",
    "For MTS, your `endpoint = \"https://app.datarobot.com/api/v2\"`.  You can get your DataRobot Api Token by going to the UI -> Clicking the avatar in the top right -> Developer Tools -> Crate New Key or use an existing one"
   ]
  },
  {
   "cell_type": "code",
   "execution_count": null,
   "metadata": {},
   "outputs": [],
   "source": [
    "import datarobot as dr\n",
    "client = dr.Client(endpoint = os.environ[\"DATAROBOT_ENDPOINT\"], token = os.environ[\"DATAROBOT_API_TOKEN\"])"
   ]
  },
  {
   "cell_type": "markdown",
   "metadata": {},
   "source": [
    "## Grab an appropriate environment"
   ]
  },
  {
   "cell_type": "code",
   "execution_count": 2,
   "metadata": {},
   "outputs": [
    {
     "data": {
      "text/plain": [
       "ExecutionEnvironment('[DataRobot] Python 3.9 Scikit-Learn Drop-In')"
      ]
     },
     "execution_count": 2,
     "metadata": {},
     "output_type": "execute_result"
    }
   ],
   "source": [
    "environment = dr.ExecutionEnvironment.list(\"scikit\").pop()\n",
    "environment"
   ]
  },
  {
   "cell_type": "markdown",
   "metadata": {},
   "source": [
    "## Load the training dataset to DataRobot Registry"
   ]
  },
  {
   "cell_type": "code",
   "execution_count": null,
   "metadata": {},
   "outputs": [],
   "source": [
    "training_data = dr.Dataset.create_from_file(\"training_data.csv\")\n"
   ]
  },
  {
   "cell_type": "markdown",
   "metadata": {},
   "source": [
    "## Create an entry for the model in the Custom Model Workshop"
   ]
  },
  {
   "cell_type": "code",
   "execution_count": 4,
   "metadata": {},
   "outputs": [],
   "source": [
    "cm = dr.CustomInferenceModel.create(\n",
    "    \"Python regression\", \n",
    "    target_name=\"charges\",\n",
    "    target_type= dr.enums.TARGET_TYPE.REGRESSION)"
   ]
  },
  {
   "cell_type": "markdown",
   "metadata": {},
   "source": [
    "## Add a version to the entry "
   ]
  },
  {
   "cell_type": "code",
   "execution_count": 5,
   "metadata": {},
   "outputs": [],
   "source": [
    "cmv = dr.CustomModelVersion.create_clean(cm.id, \n",
    "                                        base_environment_id = environment.id,\n",
    "                                        folder_path = \"./python-version\", \n",
    "                                        training_dataset_id=training_data.id\n",
    "                                        )\n",
    "\n",
    "## or \n",
    "# custom_model_version = dr.CustomModelVersion.create_from_previous(..)"
   ]
  },
  {
   "cell_type": "markdown",
   "metadata": {},
   "source": [
    "## Build the custom model environment if necessary\n",
    "\n",
    "this would be required if you added a  `requirements.txt`\n"
   ]
  },
  {
   "cell_type": "code",
   "execution_count": 6,
   "metadata": {},
   "outputs": [],
   "source": [
    "build = dr.CustomModelVersionDependencyBuild.start_build(cm.id, cmv.id, max_wait = 1200)"
   ]
  },
  {
   "cell_type": "markdown",
   "metadata": {},
   "source": [
    "Check the build status"
   ]
  },
  {
   "cell_type": "code",
   "execution_count": 8,
   "metadata": {},
   "outputs": [
    {
     "data": {
      "text/plain": [
       "'success'"
      ]
     },
     "execution_count": 8,
     "metadata": {},
     "output_type": "execute_result"
    }
   ],
   "source": [
    "build.build_status"
   ]
  },
  {
   "cell_type": "markdown",
   "metadata": {},
   "source": [
    "## Load the test dataset we will use to ensure DataRobot can make predictions with you model"
   ]
  },
  {
   "cell_type": "code",
   "execution_count": 3,
   "metadata": {},
   "outputs": [],
   "source": [
    "cm_test_data = dr.Dataset.create_from_file(\"test_data.csv\")"
   ]
  },
  {
   "cell_type": "markdown",
   "metadata": {},
   "source": [
    "## Run Tests"
   ]
  },
  {
   "cell_type": "code",
   "execution_count": 4,
   "metadata": {},
   "outputs": [],
   "source": [
    "custom_model_test = dr.CustomModelTest.create(\n",
    "    cm.id, \n",
    "    cmv.id, \n",
    "    dataset_id = cm_test_data.id, \n",
    "    network_egress_policy = dr.enums.NETWORK_EGRESS_POLICY.PUBLIC)"
   ]
  },
  {
   "cell_type": "markdown",
   "metadata": {},
   "source": [
    "## Check Test Status"
   ]
  },
  {
   "cell_type": "code",
   "execution_count": 5,
   "metadata": {},
   "outputs": [
    {
     "data": {
      "text/plain": [
       "{'error_check': {'status': 'succeeded', 'message': ''},\n",
       " 'null_value_imputation': {'status': 'warning',\n",
       "  'message': 'Model cannot impute null values for the following columns:\\nage, bmi, children'},\n",
       " 'long_running_service': {'status': 'succeeded', 'message': ''},\n",
       " 'side_effects': {'status': 'succeeded', 'message': ''},\n",
       " 'prediction_verification_check': {'status': 'skipped', 'message': ''},\n",
       " 'performance_check': {'status': 'skipped', 'message': ''},\n",
       " 'stability_check': {'status': 'skipped', 'message': ''}}"
      ]
     },
     "execution_count": 5,
     "metadata": {},
     "output_type": "execute_result"
    }
   ],
   "source": [
    "custom_model_test.detailed_status"
   ]
  },
  {
   "cell_type": "code",
   "execution_count": 6,
   "metadata": {},
   "outputs": [
    {
     "data": {
      "text/plain": [
       "'warning'"
      ]
     },
     "execution_count": 6,
     "metadata": {},
     "output_type": "execute_result"
    }
   ],
   "source": [
    "custom_model_test.overall_status"
   ]
  },
  {
   "cell_type": "markdown",
   "metadata": {},
   "source": [
    "## Register the Model"
   ]
  },
  {
   "cell_type": "code",
   "execution_count": 7,
   "metadata": {},
   "outputs": [],
   "source": [
    "## register the custom model version in the dr model registry \n",
    "registered_model_version = dr.RegisteredModelVersion.create_for_custom_model_version(\n",
    "    custom_model_version_id =  cmv.id, \n",
    "    name = \"Python Regression\", \n",
    "    description = \"some description\"\n",
    ")"
   ]
  },
  {
   "cell_type": "code",
   "execution_count": 20,
   "metadata": {},
   "outputs": [],
   "source": [
    "registered_model_version.build_status"
   ]
  },
  {
   "cell_type": "markdown",
   "metadata": {},
   "source": [
    "Wait for the model package to be built"
   ]
  },
  {
   "cell_type": "code",
   "execution_count": 26,
   "metadata": {},
   "outputs": [],
   "source": [
    "import time \n",
    "buildStatus = \"inProgress\"\n",
    "while buildStatus == \"inProgress\":\n",
    "    buildStatus = client.get(f\"registeredModels/{registered_model_version.registered_model_id}/versions/{registered_model_version.id}\").json()[\"buildStatus\"]\n",
    "    time.sleep(5)"
   ]
  },
  {
   "cell_type": "markdown",
   "metadata": {},
   "source": [
    "## Deploy the model"
   ]
  },
  {
   "cell_type": "code",
   "execution_count": 13,
   "metadata": {},
   "outputs": [],
   "source": [
    "## this will grab the first serverless prediction environment returned\n",
    "prediction_environment = [ pe for pe in dr.PredictionEnvironment.list() if pe.platform == \"datarobotServerless\"].pop()"
   ]
  },
  {
   "cell_type": "code",
   "execution_count": 67,
   "metadata": {},
   "outputs": [],
   "source": [
    "deployment = dr.Deployment.create_from_registered_model_version(\n",
    "    registered_model_version.id,\n",
    "    prediction_environment_id=prediction_environment.id,\n",
    "    label = \"Python Regression\",\n",
    ")"
   ]
  },
  {
   "cell_type": "markdown",
   "metadata": {},
   "source": [
    "## Update Accuracy Tracking by defined association id\n",
    "\n",
    "in our case, the association id will be a field in the data call `ASSOCIATION_ID`"
   ]
  },
  {
   "cell_type": "code",
   "execution_count": 68,
   "metadata": {},
   "outputs": [],
   "source": [
    "deployment.update_association_id_settings([\"ASSOCIATION_ID\"], required_in_prediction_requests=False)"
   ]
  },
  {
   "cell_type": "markdown",
   "metadata": {},
   "source": [
    "## Update Drift Tracking"
   ]
  },
  {
   "cell_type": "code",
   "execution_count": 69,
   "metadata": {},
   "outputs": [],
   "source": [
    "deployment.update_drift_tracking_settings(target_drift_enabled=True, feature_drift_enabled=True)"
   ]
  },
  {
   "cell_type": "markdown",
   "metadata": {},
   "source": [
    "## Realtime Scoring"
   ]
  },
  {
   "cell_type": "code",
   "execution_count": null,
   "metadata": {},
   "outputs": [],
   "source": [
    "import requests \n",
    "import uuid \n",
    "import pandas as pd \n",
    "import os\n",
    "from io import StringIO"
   ]
  },
  {
   "cell_type": "code",
   "execution_count": null,
   "metadata": {},
   "outputs": [],
   "source": [
    "DEPLOYMENT_URL = client.endpoint + '/deployments/{deployment_id}/predictions'    # noqa\n",
    "API_KEY = os.environ[\"DATAROBOT_API_TOKEN\"]\n",
    "df = pd.read_csv(\"test_data.csv\").sample(n = 100)\n",
    "df[\"ASSOCIATION_ID\"] = [str(uuid.uuid1()) for i in range(df.shape[0])]"
   ]
  },
  {
   "cell_type": "markdown",
   "metadata": {},
   "source": []
  },
  {
   "cell_type": "code",
   "execution_count": 62,
   "metadata": {},
   "outputs": [],
   "source": [
    "def score(data, DEPLOYMENT_ID): \n",
    "\n",
    "    headers = {\n",
    "        'Content-Type': 'text/plain; charset=UTF-8',\n",
    "        'Accept': \"text/csv\",\n",
    "        'Authorization': 'Bearer {}'.format(os.environ[\"DATAROBOT_API_TOKEN\"]),\n",
    "    }\n",
    "\n",
    "    url = DEPLOYMENT_URL.format(deployment_id=DEPLOYMENT_ID)\n",
    "    params = {\n",
    "        'maxExplanations': 3,\n",
    "    }\n",
    "    # Make API request for predictions\n",
    "    predictions_response = requests.post(\n",
    "        url,\n",
    "        data=data.to_csv(index = False),\n",
    "        headers=headers,\n",
    "        params=params,\n",
    "    )\n",
    "    return predictions_response"
   ]
  },
  {
   "cell_type": "code",
   "execution_count": 63,
   "metadata": {},
   "outputs": [],
   "source": [
    "python_preds = score(df, deployment.id)"
   ]
  },
  {
   "cell_type": "code",
   "execution_count": 64,
   "metadata": {},
   "outputs": [
    {
     "data": {
      "text/html": [
       "<div>\n",
       "<style scoped>\n",
       "    .dataframe tbody tr th:only-of-type {\n",
       "        vertical-align: middle;\n",
       "    }\n",
       "\n",
       "    .dataframe tbody tr th {\n",
       "        vertical-align: top;\n",
       "    }\n",
       "\n",
       "    .dataframe thead th {\n",
       "        text-align: right;\n",
       "    }\n",
       "</style>\n",
       "<table border=\"1\" class=\"dataframe\">\n",
       "  <thead>\n",
       "    <tr style=\"text-align: right;\">\n",
       "      <th></th>\n",
       "      <th>charges_PREDICTION</th>\n",
       "      <th>EXPLANATION_1_FEATURE_NAME</th>\n",
       "      <th>EXPLANATION_1_STRENGTH</th>\n",
       "      <th>EXPLANATION_1_ACTUAL_VALUE</th>\n",
       "      <th>EXPLANATION_1_QUALITATIVE_STRENGTH</th>\n",
       "      <th>EXPLANATION_2_FEATURE_NAME</th>\n",
       "      <th>EXPLANATION_2_STRENGTH</th>\n",
       "      <th>EXPLANATION_2_ACTUAL_VALUE</th>\n",
       "      <th>EXPLANATION_2_QUALITATIVE_STRENGTH</th>\n",
       "      <th>EXPLANATION_3_FEATURE_NAME</th>\n",
       "      <th>EXPLANATION_3_STRENGTH</th>\n",
       "      <th>EXPLANATION_3_ACTUAL_VALUE</th>\n",
       "      <th>EXPLANATION_3_QUALITATIVE_STRENGTH</th>\n",
       "      <th>DEPLOYMENT_APPROVAL_STATUS</th>\n",
       "    </tr>\n",
       "  </thead>\n",
       "  <tbody>\n",
       "    <tr>\n",
       "      <th>0</th>\n",
       "      <td>12379.470418</td>\n",
       "      <td>age</td>\n",
       "      <td>5273.522395</td>\n",
       "      <td>57</td>\n",
       "      <td>+++</td>\n",
       "      <td>smoker</td>\n",
       "      <td>-2771.419939</td>\n",
       "      <td>no</td>\n",
       "      <td>--</td>\n",
       "      <td>children</td>\n",
       "      <td>-688.398586</td>\n",
       "      <td>0</td>\n",
       "      <td>-</td>\n",
       "      <td>APPROVED</td>\n",
       "    </tr>\n",
       "    <tr>\n",
       "      <th>1</th>\n",
       "      <td>13634.823174</td>\n",
       "      <td>smoker</td>\n",
       "      <td>-7163.552877</td>\n",
       "      <td>no</td>\n",
       "      <td>---</td>\n",
       "      <td>age</td>\n",
       "      <td>3228.725241</td>\n",
       "      <td>52</td>\n",
       "      <td>++</td>\n",
       "      <td>children</td>\n",
       "      <td>1375.622394</td>\n",
       "      <td>3</td>\n",
       "      <td>++</td>\n",
       "      <td>APPROVED</td>\n",
       "    </tr>\n",
       "    <tr>\n",
       "      <th>2</th>\n",
       "      <td>3341.578530</td>\n",
       "      <td>smoker</td>\n",
       "      <td>-7986.832376</td>\n",
       "      <td>no</td>\n",
       "      <td>---</td>\n",
       "      <td>age</td>\n",
       "      <td>-3860.499073</td>\n",
       "      <td>22</td>\n",
       "      <td>--</td>\n",
       "      <td>children</td>\n",
       "      <td>-1935.580462</td>\n",
       "      <td>0</td>\n",
       "      <td>--</td>\n",
       "      <td>APPROVED</td>\n",
       "    </tr>\n",
       "    <tr>\n",
       "      <th>3</th>\n",
       "      <td>14022.648730</td>\n",
       "      <td>smoker</td>\n",
       "      <td>-6858.183988</td>\n",
       "      <td>no</td>\n",
       "      <td>---</td>\n",
       "      <td>age</td>\n",
       "      <td>4479.145863</td>\n",
       "      <td>54</td>\n",
       "      <td>+++</td>\n",
       "      <td>children</td>\n",
       "      <td>1235.436226</td>\n",
       "      <td>3</td>\n",
       "      <td>++</td>\n",
       "      <td>APPROVED</td>\n",
       "    </tr>\n",
       "    <tr>\n",
       "      <th>4</th>\n",
       "      <td>3054.940903</td>\n",
       "      <td>age</td>\n",
       "      <td>-4052.632783</td>\n",
       "      <td>21</td>\n",
       "      <td>---</td>\n",
       "      <td>smoker</td>\n",
       "      <td>-3129.920263</td>\n",
       "      <td>no</td>\n",
       "      <td>--</td>\n",
       "      <td>children</td>\n",
       "      <td>-2008.962518</td>\n",
       "      <td>0</td>\n",
       "      <td>--</td>\n",
       "      <td>APPROVED</td>\n",
       "    </tr>\n",
       "    <tr>\n",
       "      <th>...</th>\n",
       "      <td>...</td>\n",
       "      <td>...</td>\n",
       "      <td>...</td>\n",
       "      <td>...</td>\n",
       "      <td>...</td>\n",
       "      <td>...</td>\n",
       "      <td>...</td>\n",
       "      <td>...</td>\n",
       "      <td>...</td>\n",
       "      <td>...</td>\n",
       "      <td>...</td>\n",
       "      <td>...</td>\n",
       "      <td>...</td>\n",
       "      <td>...</td>\n",
       "    </tr>\n",
       "    <tr>\n",
       "      <th>95</th>\n",
       "      <td>7460.149538</td>\n",
       "      <td>smoker</td>\n",
       "      <td>-6056.440237</td>\n",
       "      <td>no</td>\n",
       "      <td>---</td>\n",
       "      <td>age</td>\n",
       "      <td>-2796.579113</td>\n",
       "      <td>22</td>\n",
       "      <td>--</td>\n",
       "      <td>children</td>\n",
       "      <td>2365.391561</td>\n",
       "      <td>3</td>\n",
       "      <td>++</td>\n",
       "      <td>APPROVED</td>\n",
       "    </tr>\n",
       "    <tr>\n",
       "      <th>96</th>\n",
       "      <td>3193.682712</td>\n",
       "      <td>smoker</td>\n",
       "      <td>-7848.451982</td>\n",
       "      <td>no</td>\n",
       "      <td>---</td>\n",
       "      <td>age</td>\n",
       "      <td>-4061.200152</td>\n",
       "      <td>18</td>\n",
       "      <td>--</td>\n",
       "      <td>children</td>\n",
       "      <td>-1991.432483</td>\n",
       "      <td>0</td>\n",
       "      <td>--</td>\n",
       "      <td>APPROVED</td>\n",
       "    </tr>\n",
       "    <tr>\n",
       "      <th>97</th>\n",
       "      <td>12407.629910</td>\n",
       "      <td>smoker</td>\n",
       "      <td>-7575.006055</td>\n",
       "      <td>no</td>\n",
       "      <td>---</td>\n",
       "      <td>age</td>\n",
       "      <td>5205.552307</td>\n",
       "      <td>55</td>\n",
       "      <td>+++</td>\n",
       "      <td>children</td>\n",
       "      <td>-706.759040</td>\n",
       "      <td>0</td>\n",
       "      <td>-</td>\n",
       "      <td>APPROVED</td>\n",
       "    </tr>\n",
       "    <tr>\n",
       "      <th>98</th>\n",
       "      <td>15257.219585</td>\n",
       "      <td>age</td>\n",
       "      <td>7256.454740</td>\n",
       "      <td>63</td>\n",
       "      <td>+++</td>\n",
       "      <td>smoker</td>\n",
       "      <td>-2160.300449</td>\n",
       "      <td>no</td>\n",
       "      <td>--</td>\n",
       "      <td>children</td>\n",
       "      <td>420.268642</td>\n",
       "      <td>1</td>\n",
       "      <td>+</td>\n",
       "      <td>APPROVED</td>\n",
       "    </tr>\n",
       "    <tr>\n",
       "      <th>99</th>\n",
       "      <td>9292.721167</td>\n",
       "      <td>smoker</td>\n",
       "      <td>-7114.316813</td>\n",
       "      <td>no</td>\n",
       "      <td>---</td>\n",
       "      <td>children</td>\n",
       "      <td>418.087000</td>\n",
       "      <td>3</td>\n",
       "      <td>+</td>\n",
       "      <td>region</td>\n",
       "      <td>-309.463538</td>\n",
       "      <td>southwest</td>\n",
       "      <td>-</td>\n",
       "      <td>APPROVED</td>\n",
       "    </tr>\n",
       "  </tbody>\n",
       "</table>\n",
       "<p>100 rows × 14 columns</p>\n",
       "</div>"
      ],
      "text/plain": [
       "    charges_PREDICTION EXPLANATION_1_FEATURE_NAME  EXPLANATION_1_STRENGTH  \\\n",
       "0         12379.470418                        age             5273.522395   \n",
       "1         13634.823174                     smoker            -7163.552877   \n",
       "2          3341.578530                     smoker            -7986.832376   \n",
       "3         14022.648730                     smoker            -6858.183988   \n",
       "4          3054.940903                        age            -4052.632783   \n",
       "..                 ...                        ...                     ...   \n",
       "95         7460.149538                     smoker            -6056.440237   \n",
       "96         3193.682712                     smoker            -7848.451982   \n",
       "97        12407.629910                     smoker            -7575.006055   \n",
       "98        15257.219585                        age             7256.454740   \n",
       "99         9292.721167                     smoker            -7114.316813   \n",
       "\n",
       "   EXPLANATION_1_ACTUAL_VALUE EXPLANATION_1_QUALITATIVE_STRENGTH  \\\n",
       "0                          57                                +++   \n",
       "1                          no                                ---   \n",
       "2                          no                                ---   \n",
       "3                          no                                ---   \n",
       "4                          21                                ---   \n",
       "..                        ...                                ...   \n",
       "95                         no                                ---   \n",
       "96                         no                                ---   \n",
       "97                         no                                ---   \n",
       "98                         63                                +++   \n",
       "99                         no                                ---   \n",
       "\n",
       "   EXPLANATION_2_FEATURE_NAME  EXPLANATION_2_STRENGTH  \\\n",
       "0                      smoker            -2771.419939   \n",
       "1                         age             3228.725241   \n",
       "2                         age            -3860.499073   \n",
       "3                         age             4479.145863   \n",
       "4                      smoker            -3129.920263   \n",
       "..                        ...                     ...   \n",
       "95                        age            -2796.579113   \n",
       "96                        age            -4061.200152   \n",
       "97                        age             5205.552307   \n",
       "98                     smoker            -2160.300449   \n",
       "99                   children              418.087000   \n",
       "\n",
       "   EXPLANATION_2_ACTUAL_VALUE EXPLANATION_2_QUALITATIVE_STRENGTH  \\\n",
       "0                          no                                 --   \n",
       "1                          52                                 ++   \n",
       "2                          22                                 --   \n",
       "3                          54                                +++   \n",
       "4                          no                                 --   \n",
       "..                        ...                                ...   \n",
       "95                         22                                 --   \n",
       "96                         18                                 --   \n",
       "97                         55                                +++   \n",
       "98                         no                                 --   \n",
       "99                          3                                  +   \n",
       "\n",
       "   EXPLANATION_3_FEATURE_NAME  EXPLANATION_3_STRENGTH  \\\n",
       "0                    children             -688.398586   \n",
       "1                    children             1375.622394   \n",
       "2                    children            -1935.580462   \n",
       "3                    children             1235.436226   \n",
       "4                    children            -2008.962518   \n",
       "..                        ...                     ...   \n",
       "95                   children             2365.391561   \n",
       "96                   children            -1991.432483   \n",
       "97                   children             -706.759040   \n",
       "98                   children              420.268642   \n",
       "99                     region             -309.463538   \n",
       "\n",
       "   EXPLANATION_3_ACTUAL_VALUE EXPLANATION_3_QUALITATIVE_STRENGTH  \\\n",
       "0                           0                                  -   \n",
       "1                           3                                 ++   \n",
       "2                           0                                 --   \n",
       "3                           3                                 ++   \n",
       "4                           0                                 --   \n",
       "..                        ...                                ...   \n",
       "95                          3                                 ++   \n",
       "96                          0                                 --   \n",
       "97                          0                                  -   \n",
       "98                          1                                  +   \n",
       "99                  southwest                                  -   \n",
       "\n",
       "   DEPLOYMENT_APPROVAL_STATUS  \n",
       "0                    APPROVED  \n",
       "1                    APPROVED  \n",
       "2                    APPROVED  \n",
       "3                    APPROVED  \n",
       "4                    APPROVED  \n",
       "..                        ...  \n",
       "95                   APPROVED  \n",
       "96                   APPROVED  \n",
       "97                   APPROVED  \n",
       "98                   APPROVED  \n",
       "99                   APPROVED  \n",
       "\n",
       "[100 rows x 14 columns]"
      ]
     },
     "execution_count": 64,
     "metadata": {},
     "output_type": "execute_result"
    }
   ],
   "source": [
    "pd.read_csv(StringIO(python_preds.content.decode()))"
   ]
  },
  {
   "cell_type": "code",
   "execution_count": 65,
   "metadata": {},
   "outputs": [],
   "source": [
    "import datarobot as dr\n",
    "client = dr.Client(token = API_KEY, endpoint = \"https://app.datarobot.com/api/v2\")\n",
    "\n",
    "\n",
    "def report_actuals(df, DEPLOYMENT_ID):\n",
    "    deployment = dr.Deployment.get(DEPLOYMENT_ID)\n",
    "    col_mapping =  {\"charges\": \"actual_value\", \"ASSOCIATION_ID\": \"association_id\"}\n",
    "    df_actuals = df.rename(columns = col_mapping)\n",
    "    deployment.submit_actuals(df_actuals[col_mapping.values()])\n",
    "\n",
    "report_actuals(df, deployment.id)"
   ]
  },
  {
   "cell_type": "markdown",
   "metadata": {},
   "source": [
    "## For Datasets larger than 10 MB there are two approaches\n",
    "\n",
    "* use batch prediction api (this is preferred when you dataset is on the order of 500 MB or more)\n",
    "* using Futures, chunk data locally and use realtime prediction api (a version of this could be used when datasets is between 10 MB and 500 MB)"
   ]
  },
  {
   "cell_type": "markdown",
   "metadata": {},
   "source": [
    "### Using Batch"
   ]
  },
  {
   "cell_type": "code",
   "execution_count": 26,
   "metadata": {},
   "outputs": [
    {
     "name": "stdout",
     "output_type": "stream",
     "text": [
      "84.975723\n"
     ]
    }
   ],
   "source": [
    "df = pd.read_csv(\"test_data.csv\")\n",
    "deployment = dr.Deployment.get(\"67a61c8ac68789e5dd8507dc\")\n",
    "## make the dataframe larger than 10 MB to demostrate\n",
    "for i in range(13):\n",
    "    df = pd.concat([df, df])\n",
    "used_bytes = sys.getsizeof(df.to_csv(index = False)) \n",
    "    # logger.info(f\"memory usage is {used_bytes} bytes\")    \n",
    "df[\"ASSOCIATION_ID\"] = [str(uuid.uuid1()) for i in range(df.shape[0])]\n",
    "used_bytes = sys.getsizeof(df.to_csv(index = False)) \n",
    "    # logger.info(f\"memory usage is {used_bytes} bytes\")    \n",
    "used_megabytes = (used_bytes / 1e6)\n",
    "print(used_megabytes)"
   ]
  },
  {
   "cell_type": "code",
   "execution_count": 16,
   "metadata": {},
   "outputs": [],
   "source": [
    "job = dr.BatchPredictionJob.score(\n",
    "    deployment=deployment.id ,\n",
    "    intake_settings={\n",
    "        'type': 'localFile',\n",
    "        'file': df,\n",
    "    },\n",
    "    output_settings={\n",
    "        'type': 'localFile',\n",
    "        #'path': output_file,\n",
    "    },\n",
    "    passthrough_columns=['region'], ## set passthrough_columns = \"all\" if you would like all columns returned\n",
    "    download_timeout=60 * 60 * 24,\n",
    "    download_read_timeout=60 * 60 * 24,\n",
    "    upload_read_timeout=60 * 60 * 24,\n",
    "    # If explanations are required, uncomment the line below\n",
    "    # max_explanations=3,\n",
    "    # If text explanations are required, uncomment the line below.\n",
    "    # max_ngram_explanations='all',\n",
    "    # Uncomment this for Prediction Warnings, if enabled for your deployment.\n",
    "    # prediction_warning_enabled=True\n",
    ")\n",
    "result = job.get_result_when_complete(max_wait=60 * 60 * 24).decode()\n",
    "df_pred = pd.read_csv(StringIO(result))"
   ]
  },
  {
   "cell_type": "code",
   "execution_count": 22,
   "metadata": {},
   "outputs": [
    {
     "data": {
      "text/html": [
       "<div>\n",
       "<style scoped>\n",
       "    .dataframe tbody tr th:only-of-type {\n",
       "        vertical-align: middle;\n",
       "    }\n",
       "\n",
       "    .dataframe tbody tr th {\n",
       "        vertical-align: top;\n",
       "    }\n",
       "\n",
       "    .dataframe thead th {\n",
       "        text-align: right;\n",
       "    }\n",
       "</style>\n",
       "<table border=\"1\" class=\"dataframe\">\n",
       "  <thead>\n",
       "    <tr style=\"text-align: right;\">\n",
       "      <th></th>\n",
       "      <th>charges_PREDICTION</th>\n",
       "      <th>DEPLOYMENT_APPROVAL_STATUS</th>\n",
       "      <th>region</th>\n",
       "      <th>ASSOCIATION_ID</th>\n",
       "    </tr>\n",
       "  </thead>\n",
       "  <tbody>\n",
       "    <tr>\n",
       "      <th>0</th>\n",
       "      <td>15271.252333</td>\n",
       "      <td>APPROVED</td>\n",
       "      <td>northwest</td>\n",
       "      <td>76e4025a-e571-11ef-9977-aa34fbca8d65</td>\n",
       "    </tr>\n",
       "    <tr>\n",
       "      <th>1</th>\n",
       "      <td>13041.333337</td>\n",
       "      <td>APPROVED</td>\n",
       "      <td>northeast</td>\n",
       "      <td>76e4035e-e571-11ef-9977-aa34fbca8d65</td>\n",
       "    </tr>\n",
       "    <tr>\n",
       "      <th>2</th>\n",
       "      <td>6910.410814</td>\n",
       "      <td>APPROVED</td>\n",
       "      <td>southeast</td>\n",
       "      <td>76e4037c-e571-11ef-9977-aa34fbca8d65</td>\n",
       "    </tr>\n",
       "    <tr>\n",
       "      <th>3</th>\n",
       "      <td>6726.029534</td>\n",
       "      <td>APPROVED</td>\n",
       "      <td>northwest</td>\n",
       "      <td>76e403ae-e571-11ef-9977-aa34fbca8d65</td>\n",
       "    </tr>\n",
       "    <tr>\n",
       "      <th>4</th>\n",
       "      <td>4672.434832</td>\n",
       "      <td>APPROVED</td>\n",
       "      <td>northwest</td>\n",
       "      <td>76e403c2-e571-11ef-9977-aa34fbca8d65</td>\n",
       "    </tr>\n",
       "  </tbody>\n",
       "</table>\n",
       "</div>"
      ],
      "text/plain": [
       "   charges_PREDICTION DEPLOYMENT_APPROVAL_STATUS     region  \\\n",
       "0        15271.252333                   APPROVED  northwest   \n",
       "1        13041.333337                   APPROVED  northeast   \n",
       "2         6910.410814                   APPROVED  southeast   \n",
       "3         6726.029534                   APPROVED  northwest   \n",
       "4         4672.434832                   APPROVED  northwest   \n",
       "\n",
       "                         ASSOCIATION_ID  \n",
       "0  76e4025a-e571-11ef-9977-aa34fbca8d65  \n",
       "1  76e4035e-e571-11ef-9977-aa34fbca8d65  \n",
       "2  76e4037c-e571-11ef-9977-aa34fbca8d65  \n",
       "3  76e403ae-e571-11ef-9977-aa34fbca8d65  \n",
       "4  76e403c2-e571-11ef-9977-aa34fbca8d65  "
      ]
     },
     "execution_count": 22,
     "metadata": {},
     "output_type": "execute_result"
    }
   ],
   "source": [
    "df_pred.head()"
   ]
  },
  {
   "cell_type": "markdown",
   "metadata": {},
   "source": [
    "### Using Futures\n",
    "\n",
    "This is an illustrative example.  not production ready"
   ]
  },
  {
   "cell_type": "code",
   "execution_count": 27,
   "metadata": {},
   "outputs": [],
   "source": [
    "import logging\n",
    "import sys\n",
    "from requests_futures.sessions import FuturesSession\n",
    "from io import BytesIO, StringIO\n",
    "import numpy as np\n",
    "import pandas as pd\n",
    "import datarobot as dr\n",
    "import uuid\n",
    "import time \n",
    "import os\n",
    "logging.basicConfig(\n",
    "    level=logging.INFO,\n",
    "    stream=sys.stdout,\n",
    "    format='%(asctime)s %(filename)s:%(lineno)d %(levelname)s %(message)s',\n",
    ")\n",
    "logger = logging.getLogger(__name__)\n",
    "API_KEY = os.environ[\"DATAROBOT_API_TOKEN\"]\n",
    "DEPLOYMENT_URL = 'https://app.datarobot.com/api/v2/deployments/{deployment_id}/predictions'    # noqa"
   ]
  },
  {
   "cell_type": "code",
   "execution_count": 28,
   "metadata": {},
   "outputs": [],
   "source": [
    "def retry_any_bad_future(future):\n",
    "    result = future.result() \n",
    "    status_code = result.status_code \n",
    "    if status_code < 300:\n",
    "        return future \n",
    "    elif status_code == 503:\n",
    "        # 503 is associated with DataRobot spinning up more inference resources.\n",
    "        logger.warning(result.content.decode(\"UTF-8\"))\n",
    "        logger.warning(\"retrying request. hang tight\")\n",
    "        orig_request = result.request\n",
    "        url = orig_request.url \n",
    "        headers = orig_request.headers \n",
    "        data = orig_request.body \n",
    "        new_future = session.post(**dict(url = url, headers = headers), data=data)\n",
    "        return new_future\n",
    "    else:\n",
    "        return future\n",
    "    \n",
    "def wait_for_futures(futures):\n",
    "    while not all( [r.done() for r in futures]):\n",
    "        time.sleep(10)\n",
    "        if np.mod(c, 500000) == 0:\n",
    "            logger.info(f\"number of completed batches {sum([1 if r.done() else 0 for r in futures])}\")\n",
    "            logger.info(f\"still running. currently {(time.time_ns() - fstart) / 1e9} seconds and counting\")\n",
    "    successful = [future.result().status_code < 300 for future in futures]\n",
    "    if all(successful):\n",
    "        return futures\n",
    "    else:\n",
    "        futures = [ retry_any_bad_future(future) for future in futures ]\n",
    "        return wait_for_futures(futures)"
   ]
  },
  {
   "cell_type": "code",
   "execution_count": 29,
   "metadata": {},
   "outputs": [
    {
     "name": "stdout",
     "output_type": "stream",
     "text": [
      "2025-02-07 12:38:56,476 746344414.py:7 INFO dataset size is 85.0 MB\n",
      "2025-02-07 12:38:56,476 746344414.py:39 INFO making concurrent calls for scoring\n",
      "2025-02-07 12:38:56,477 746344414.py:40 INFO batches: 9, max workers: 4\n",
      "2025-02-07 12:38:56,584 746344414.py:47 INFO scoring 121970 records in batch 0\n",
      "2025-02-07 12:38:56,779 746344414.py:47 INFO scoring 121970 records in batch 1\n",
      "2025-02-07 12:38:56,976 746344414.py:47 INFO scoring 121970 records in batch 2\n",
      "2025-02-07 12:38:57,174 746344414.py:47 INFO scoring 121970 records in batch 3\n",
      "2025-02-07 12:38:57,366 746344414.py:47 INFO scoring 121970 records in batch 4\n",
      "2025-02-07 12:38:57,569 746344414.py:47 INFO scoring 121970 records in batch 5\n",
      "2025-02-07 12:38:57,771 746344414.py:47 INFO scoring 121970 records in batch 6\n",
      "2025-02-07 12:38:57,972 746344414.py:47 INFO scoring 121969 records in batch 7\n",
      "2025-02-07 12:38:58,171 746344414.py:47 INFO scoring 121969 records in batch 8\n",
      "2025-02-07 12:39:08,373 1900053571.py:23 INFO number of completed batches 3\n",
      "2025-02-07 12:39:08,374 1900053571.py:24 INFO still running. currently 10.00511 seconds and counting\n",
      "2025-02-07 12:39:18,379 1900053571.py:23 INFO number of completed batches 9\n",
      "2025-02-07 12:39:18,380 1900053571.py:24 INFO still running. currently 20.01182 seconds and counting\n",
      "2025-02-07 12:39:18,381 1900053571.py:8 WARNING {\"detail\":\"Inference server is starting, please try again in a few seconds\"}\n",
      "2025-02-07 12:39:18,382 1900053571.py:9 WARNING retrying request. hang tight\n",
      "2025-02-07 12:39:18,382 1900053571.py:8 WARNING {\"detail\":\"Inference server is starting, please try again in a few seconds\"}\n",
      "2025-02-07 12:39:18,383 1900053571.py:9 WARNING retrying request. hang tight\n",
      "2025-02-07 12:39:28,391 1900053571.py:23 INFO number of completed batches 9\n",
      "2025-02-07 12:39:28,393 1900053571.py:24 INFO still running. currently 30.023973 seconds and counting\n",
      "2025-02-07 12:39:28,393 1900053571.py:8 WARNING {\"detail\":\"Inference server is starting, please try again in a few seconds\"}\n",
      "2025-02-07 12:39:28,394 1900053571.py:9 WARNING retrying request. hang tight\n",
      "2025-02-07 12:39:28,394 1900053571.py:8 WARNING {\"detail\":\"Inference server is starting, please try again in a few seconds\"}\n",
      "2025-02-07 12:39:28,395 1900053571.py:9 WARNING retrying request. hang tight\n",
      "2025-02-07 12:39:38,403 1900053571.py:23 INFO number of completed batches 9\n",
      "2025-02-07 12:39:38,404 1900053571.py:24 INFO still running. currently 40.035064 seconds and counting\n",
      "2025-02-07 12:39:38,404 746344414.py:52 INFO number of completed batches 9\n",
      "2025-02-07 12:39:38,408 746344414.py:58 INFO batch 0 status code: 200\n",
      "2025-02-07 12:39:38,488 746344414.py:58 INFO batch 1 status code: 200\n",
      "2025-02-07 12:39:38,553 746344414.py:58 INFO batch 2 status code: 200\n",
      "2025-02-07 12:39:38,617 746344414.py:58 INFO batch 3 status code: 200\n",
      "2025-02-07 12:39:38,681 746344414.py:58 INFO batch 4 status code: 200\n",
      "2025-02-07 12:39:38,748 746344414.py:58 INFO batch 5 status code: 200\n",
      "2025-02-07 12:39:38,814 746344414.py:58 INFO batch 6 status code: 200\n",
      "2025-02-07 12:39:38,875 746344414.py:58 INFO batch 7 status code: 200\n",
      "2025-02-07 12:39:38,937 746344414.py:58 INFO batch 8 status code: 200\n",
      "2025-02-07 12:39:39,032 746344414.py:73 INFO ==============================\n",
      "2025-02-07 12:39:39,033 746344414.py:74 INFO number of seconds to complete scoring: 40.629488\n",
      "2025-02-07 12:39:39,033 746344414.py:75 INFO ==============================\n"
     ]
    }
   ],
   "source": [
    "MAX_MB_PER_REQUEST = 10\n",
    "used_bytes = sys.getsizeof(df.to_csv(index = False)) \n",
    "    # logger.info(f\"memory usage is {used_bytes} bytes\")    \n",
    "used_megabytes = (used_bytes / 1e6)\n",
    "realtime_batches = int(np.ceil(used_megabytes/MAX_MB_PER_REQUEST))\n",
    "realtime_concurrency = 4\n",
    "logger.info(f\"dataset size is {used_megabytes:1.3} MB\")\n",
    "headers = {\n",
    "    'Content-Type': 'text/plain; charset=UTF-8',\n",
    "        # 'Content-Type': 'application/json; charset=UTF-8',\n",
    "    'Authorization': 'Bearer {}'.format(API_KEY),\n",
    "    \"Accept\": \"text/csv\"\n",
    "}\n",
    "params = {\n",
    "    \"passthroughColumns\": ['region']\n",
    "}\n",
    "URL = DEPLOYMENT_URL.format(deployment_id = deployment.id)\n",
    "bad_requests = []\n",
    "if realtime_batches == 1:\n",
    "    fstart = time.time_ns()\n",
    "    result = requests.post(\n",
    "        URL, \n",
    "        headers = headers, \n",
    "        data = df.to_csv(index = False),\n",
    "        params = params\n",
    "    )\n",
    "    if result.status_code < 300:\n",
    "        logger.info(f\"prediction request status code: {result.status_code}\")\n",
    "    else: \n",
    "        logger.error(f\"prediction request status code: {result.status_code}\")\n",
    "        logger.error(result.content.decode(\"UTF-8\"))\n",
    "        raise Exception(result.content.decode(\"UTF-8\"))\n",
    "    try:\n",
    "        df_pred = pd.read_csv(BytesIO(result.content))\n",
    "    except Exception as e:\n",
    "        logger.error(e)\n",
    "    fend = time.time_ns() \n",
    "else:\n",
    "    logger.info(f\"making concurrent calls for scoring\")\n",
    "    logger.info(f\"batches: {realtime_batches}, max workers: {realtime_concurrency}\")\n",
    "    responses = []\n",
    "    df_pred = []\n",
    "    df_batches = np.array_split(df, realtime_batches)\n",
    "    session = FuturesSession(max_workers=realtime_concurrency)\n",
    "    url_payload = dict(url = URL, headers = headers, params = params)\n",
    "    for b, df_batch in enumerate(df_batches):\n",
    "        logger.info(f\"scoring {df_batch.shape[0]} records in batch {b}\")\n",
    "        responses.append(session.post(**url_payload, data=df_batch.to_csv(index=False)))\n",
    "    fstart = time.time_ns()\n",
    "    c = 0\n",
    "    responses = wait_for_futures(responses)\n",
    "    logger.info(f\"number of completed batches {sum([1 if r.done() else 0 for r in responses])}\")\n",
    "    \n",
    "    for i, future in enumerate(responses):\n",
    "        result = future.result() \n",
    "        status_code =result.status_code\n",
    "        if status_code < 300:\n",
    "            logger.info(f\"batch {i} status code: {status_code}\")\n",
    "        else:\n",
    "            logger.warning(f\"batch {i} status code: {status_code}\")\n",
    "            logger.warning(result.content.decode(\"UTF-8\"))\n",
    "            bad_requests.append(future.result())\n",
    "        raw_bytes = result.content\n",
    "        # Get results in CSV format\n",
    "        so = StringIO(raw_bytes.decode())\n",
    "        # Display results\n",
    "        df_pred.append( pd.read_csv(so) )               \n",
    "    fend = time.time_ns() \n",
    "    try:\n",
    "        df_pred = pd.concat(df_pred)\n",
    "    except Exception as e:\n",
    "        logger.error(e)\n",
    "logger.info(\"=\"*30)\n",
    "logger.info(f\"number of seconds to complete scoring: {(fend - fstart)/1e9}\")\n",
    "logger.info(\"=\"*30)"
   ]
  },
  {
   "cell_type": "code",
   "execution_count": 30,
   "metadata": {},
   "outputs": [
    {
     "data": {
      "text/html": [
       "<div>\n",
       "<style scoped>\n",
       "    .dataframe tbody tr th:only-of-type {\n",
       "        vertical-align: middle;\n",
       "    }\n",
       "\n",
       "    .dataframe tbody tr th {\n",
       "        vertical-align: top;\n",
       "    }\n",
       "\n",
       "    .dataframe thead th {\n",
       "        text-align: right;\n",
       "    }\n",
       "</style>\n",
       "<table border=\"1\" class=\"dataframe\">\n",
       "  <thead>\n",
       "    <tr style=\"text-align: right;\">\n",
       "      <th></th>\n",
       "      <th>charges_PREDICTION</th>\n",
       "      <th>DEPLOYMENT_APPROVAL_STATUS</th>\n",
       "      <th>region</th>\n",
       "      <th>ASSOCIATION_ID</th>\n",
       "    </tr>\n",
       "  </thead>\n",
       "  <tbody>\n",
       "    <tr>\n",
       "      <th>0</th>\n",
       "      <td>15271.252333</td>\n",
       "      <td>APPROVED</td>\n",
       "      <td>northwest</td>\n",
       "      <td>421623ec-e57a-11ef-9977-aa34fbca8d65</td>\n",
       "    </tr>\n",
       "    <tr>\n",
       "      <th>1</th>\n",
       "      <td>13041.333337</td>\n",
       "      <td>APPROVED</td>\n",
       "      <td>northeast</td>\n",
       "      <td>4216246e-e57a-11ef-9977-aa34fbca8d65</td>\n",
       "    </tr>\n",
       "    <tr>\n",
       "      <th>2</th>\n",
       "      <td>6910.410814</td>\n",
       "      <td>APPROVED</td>\n",
       "      <td>southeast</td>\n",
       "      <td>42162482-e57a-11ef-9977-aa34fbca8d65</td>\n",
       "    </tr>\n",
       "    <tr>\n",
       "      <th>3</th>\n",
       "      <td>6726.029534</td>\n",
       "      <td>APPROVED</td>\n",
       "      <td>northwest</td>\n",
       "      <td>42162496-e57a-11ef-9977-aa34fbca8d65</td>\n",
       "    </tr>\n",
       "    <tr>\n",
       "      <th>4</th>\n",
       "      <td>4672.434832</td>\n",
       "      <td>APPROVED</td>\n",
       "      <td>northwest</td>\n",
       "      <td>421624a0-e57a-11ef-9977-aa34fbca8d65</td>\n",
       "    </tr>\n",
       "  </tbody>\n",
       "</table>\n",
       "</div>"
      ],
      "text/plain": [
       "   charges_PREDICTION DEPLOYMENT_APPROVAL_STATUS     region  \\\n",
       "0        15271.252333                   APPROVED  northwest   \n",
       "1        13041.333337                   APPROVED  northeast   \n",
       "2         6910.410814                   APPROVED  southeast   \n",
       "3         6726.029534                   APPROVED  northwest   \n",
       "4         4672.434832                   APPROVED  northwest   \n",
       "\n",
       "                         ASSOCIATION_ID  \n",
       "0  421623ec-e57a-11ef-9977-aa34fbca8d65  \n",
       "1  4216246e-e57a-11ef-9977-aa34fbca8d65  \n",
       "2  42162482-e57a-11ef-9977-aa34fbca8d65  \n",
       "3  42162496-e57a-11ef-9977-aa34fbca8d65  \n",
       "4  421624a0-e57a-11ef-9977-aa34fbca8d65  "
      ]
     },
     "execution_count": 30,
     "metadata": {},
     "output_type": "execute_result"
    }
   ],
   "source": [
    "df_pred.head()"
   ]
  },
  {
   "cell_type": "code",
   "execution_count": null,
   "metadata": {},
   "outputs": [],
   "source": []
  }
 ],
 "metadata": {
  "kernelspec": {
   "display_name": "drum",
   "language": "python",
   "name": "python3"
  },
  "language_info": {
   "codemirror_mode": {
    "name": "ipython",
    "version": 3
   },
   "file_extension": ".py",
   "mimetype": "text/x-python",
   "name": "python",
   "nbconvert_exporter": "python",
   "pygments_lexer": "ipython3",
   "version": "3.11.8"
  }
 },
 "nbformat": 4,
 "nbformat_minor": 2
}
